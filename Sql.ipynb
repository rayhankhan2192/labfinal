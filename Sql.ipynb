{
 "cells": [
  {
   "cell_type": "code",
   "execution_count": 1,
   "id": "d5e10b86",
   "metadata": {},
   "outputs": [
    {
     "data": {
      "text/plain": [
       "271116"
      ]
     },
     "execution_count": 1,
     "metadata": {},
     "output_type": "execute_result"
    }
   ],
   "source": [
    "import sqlite3\n",
    "import pandas as pd\n",
    "\n",
    "# Load the CSV file into a pandas DataFrame\n",
    "df = pd.read_csv('SQL_athlete_events.csv')\n",
    "\n",
    "# Connect to SQLite database (or create one if it doesn't exist)\n",
    "conn = sqlite3.connect('olympics.db')\n",
    "cursor = conn.cursor()\n",
    "\n",
    "# Write the DataFrame to an SQL table\n",
    "df.to_sql('olympics', conn, if_exists='replace',index=False)"
   ]
  },
  {
   "cell_type": "code",
   "execution_count": 6,
   "id": "d4b20cf2",
   "metadata": {},
   "outputs": [
    {
     "name": "stdout",
     "output_type": "stream",
     "text": [
      "List of all Olympic Games:\n",
      "1896 - Athina\n",
      "1900 - Paris\n",
      "1904 - St. Louis\n",
      "1906 - Athina\n",
      "1908 - London\n",
      "1912 - Stockholm\n",
      "1920 - Antwerpen\n",
      "1924 - Paris\n",
      "1924 - Chamonix\n",
      "1928 - Amsterdam\n",
      "1928 - Sankt Moritz\n",
      "1932 - Los Angeles\n",
      "1932 - Lake Placid\n",
      "1936 - Berlin\n",
      "1936 - Garmisch-Partenkirchen\n",
      "1948 - London\n",
      "1948 - Sankt Moritz\n",
      "1952 - Helsinki\n",
      "1952 - Oslo\n",
      "1956 - Cortina d'Ampezzo\n",
      "1956 - Melbourne\n",
      "1956 - Stockholm\n",
      "1960 - Squaw Valley\n",
      "1960 - Roma\n",
      "1964 - Innsbruck\n",
      "1964 - Tokyo\n",
      "1968 - Mexico City\n",
      "1968 - Grenoble\n",
      "1972 - Munich\n",
      "1972 - Sapporo\n",
      "1976 - Montreal\n",
      "1976 - Innsbruck\n",
      "1980 - Lake Placid\n",
      "1980 - Moskva\n",
      "1984 - Sarajevo\n",
      "1984 - Los Angeles\n",
      "1988 - Calgary\n",
      "1988 - Seoul\n",
      "1992 - Barcelona\n",
      "1992 - Albertville\n",
      "1994 - Lillehammer\n",
      "1996 - Atlanta\n",
      "1998 - Nagano\n",
      "2000 - Sydney\n",
      "2002 - Salt Lake City\n",
      "2004 - Athina\n",
      "2006 - Torino\n",
      "2008 - Beijing\n",
      "2010 - Vancouver\n",
      "2012 - London\n",
      "2014 - Sochi\n",
      "2016 - Rio de Janeiro\n"
     ]
    }
   ],
   "source": [
    "# SQL query to list all Olympic Games\n",
    "query_b = '''\n",
    "SELECT DISTINCT Year, City\n",
    "FROM olympics\n",
    "ORDER BY Year;\n",
    "'''\n",
    "\n",
    "# Execute the query\n",
    "cursor.execute(query_b)\n",
    "\n",
    "# Fetch all results\n",
    "result_b = cursor.fetchall()\n",
    "\n",
    "# Print the results\n",
    "print(\"List of all Olympic Games:\")\n",
    "for row in result_b:\n",
    "    print(f\"{row[0]} - {row[1]}\")"
   ]
  },
  {
   "cell_type": "code",
   "execution_count": 3,
   "id": "8fe50612",
   "metadata": {},
   "outputs": [
    {
     "name": "stdout",
     "output_type": "stream",
     "text": [
      "Olympic Games with highest and lowest participating countries:\n",
      "2016 - Rio de Janeiro: 207 countries\n",
      "2012 - London: 205 countries\n",
      "2008 - Beijing: 204 countries\n",
      "2004 - Athina: 201 countries\n",
      "2000 - Sydney: 200 countries\n",
      "1996 - Atlanta: 197 countries\n",
      "1992 - Barcelona: 169 countries\n",
      "1988 - Seoul: 159 countries\n",
      "1984 - Los Angeles: 140 countries\n",
      "1972 - Munich: 121 countries\n",
      "1968 - Mexico City: 112 countries\n",
      "1964 - Tokyo: 93 countries\n",
      "1976 - Montreal: 92 countries\n",
      "2014 - Sochi: 89 countries\n",
      "1960 - Roma: 84 countries\n",
      "2010 - Vancouver: 82 countries\n",
      "1980 - Moskva: 80 countries\n",
      "2006 - Torino: 79 countries\n",
      "2002 - Salt Lake City: 77 countries\n",
      "1998 - Nagano: 72 countries\n",
      "1952 - Helsinki: 69 countries\n",
      "1956 - Melbourne: 67 countries\n",
      "1994 - Lillehammer: 67 countries\n",
      "1992 - Albertville: 64 countries\n",
      "1948 - London: 59 countries\n",
      "1988 - Calgary: 57 countries\n",
      "1936 - Berlin: 49 countries\n",
      "1984 - Sarajevo: 49 countries\n",
      "1932 - Los Angeles: 47 countries\n",
      "1928 - Amsterdam: 46 countries\n",
      "1924 - Paris: 45 countries\n",
      "1968 - Grenoble: 37 countries\n",
      "1976 - Innsbruck: 37 countries\n",
      "1980 - Lake Placid: 37 countries\n",
      "1964 - Innsbruck: 36 countries\n",
      "1972 - Sapporo: 35 countries\n",
      "1956 - Cortina d'Ampezzo: 32 countries\n",
      "1900 - Paris: 31 countries\n",
      "1952 - Oslo: 30 countries\n",
      "1960 - Squaw Valley: 30 countries\n",
      "1912 - Stockholm: 29 countries\n",
      "1920 - Antwerpen: 29 countries\n",
      "1956 - Stockholm: 29 countries\n",
      "1936 - Garmisch-Partenkirchen: 28 countries\n",
      "1948 - Sankt Moritz: 28 countries\n",
      "1928 - Sankt Moritz: 25 countries\n",
      "1908 - London: 22 countries\n",
      "1906 - Athina: 21 countries\n",
      "1924 - Chamonix: 19 countries\n",
      "1932 - Lake Placid: 17 countries\n",
      "1904 - St. Louis: 15 countries\n",
      "1896 - Athina: 12 countries\n"
     ]
    }
   ],
   "source": [
    "# SQL query to find Olympic Games with the highest and lowest participating countries\n",
    "query_c = '''\n",
    "SELECT Year, City, COUNT(DISTINCT NOC) AS num_participating_countries\n",
    "FROM olympics\n",
    "GROUP BY Year, City\n",
    "ORDER BY num_participating_countries DESC;\n",
    "'''\n",
    "\n",
    "# Execute the query\n",
    "cursor.execute(query_c)\n",
    "\n",
    "# Fetch all results\n",
    "result_c = cursor.fetchall()\n",
    "\n",
    "# Print the results\n",
    "print(\"Olympic Games with highest and lowest participating countries:\")\n",
    "for row in result_c:\n",
    "    print(f\"{row[0]} - {row[1]}: {row[2]} countries\")"
   ]
  },
  {
   "cell_type": "code",
   "execution_count": 4,
   "id": "71cd9141",
   "metadata": {},
   "outputs": [
    {
     "name": "stdout",
     "output_type": "stream",
     "text": [
      "Sports which have been part of every Olympics:\n"
     ]
    }
   ],
   "source": [
    "# SQL query to find sports that have been part of every Olympics\n",
    "query_d = '''\n",
    "SELECT Event, COUNT(DISTINCT Year) AS num_appearances\n",
    "FROM olympics\n",
    "GROUP BY Event\n",
    "HAVING num_appearances = (SELECT COUNT(DISTINCT Year) FROM olympics);\n",
    "'''\n",
    "\n",
    "# Execute the query\n",
    "cursor.execute(query_d)\n",
    "\n",
    "# Fetch all results\n",
    "result_d = cursor.fetchall()\n",
    "\n",
    "# Print the results\n",
    "print(\"Sports which have been part of every Olympics:\")\n",
    "for row in result_d:\n",
    "    print(f\"{row[0]}\")"
   ]
  }
 ],
 "metadata": {
  "kernelspec": {
   "display_name": "base",
   "language": "python",
   "name": "python3"
  },
  "language_info": {
   "codemirror_mode": {
    "name": "ipython",
    "version": 3
   },
   "file_extension": ".py",
   "mimetype": "text/x-python",
   "name": "python",
   "nbconvert_exporter": "python",
   "pygments_lexer": "ipython3",
   "version": "3.12.7"
  }
 },
 "nbformat": 4,
 "nbformat_minor": 5
}
